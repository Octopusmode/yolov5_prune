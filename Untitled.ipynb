{
 "cells": [
  {
   "cell_type": "code",
   "execution_count": 1,
   "id": "c56bf4c9",
   "metadata": {},
   "outputs": [
    {
     "ename": "CommError",
     "evalue": "Could not find run <Run home/mosminin/train (not found)>",
     "output_type": "error",
     "traceback": [
      "\u001b[0;31m---------------------------------------------------------------------------\u001b[0m",
      "\u001b[0;31mValueError\u001b[0m                                Traceback (most recent call last)",
      "File \u001b[0;32m~/yolov5_prune/env_2080/lib/python3.8/site-packages/wandb/apis/normalize.py:26\u001b[0m, in \u001b[0;36mnormalize_exceptions.<locals>.wrapper\u001b[0;34m(*args, **kwargs)\u001b[0m\n\u001b[1;32m     25\u001b[0m \u001b[39mtry\u001b[39;00m:\n\u001b[0;32m---> 26\u001b[0m     \u001b[39mreturn\u001b[39;00m func(\u001b[39m*\u001b[39;49margs, \u001b[39m*\u001b[39;49m\u001b[39m*\u001b[39;49mkwargs)\n\u001b[1;32m     27\u001b[0m \u001b[39mexcept\u001b[39;00m requests\u001b[39m.\u001b[39mHTTPError \u001b[39mas\u001b[39;00m err:\n",
      "File \u001b[0;32m~/yolov5_prune/env_2080/lib/python3.8/site-packages/wandb/apis/public.py:867\u001b[0m, in \u001b[0;36mApi.run\u001b[0;34m(self, path)\u001b[0m\n\u001b[1;32m    866\u001b[0m \u001b[39mif\u001b[39;00m \u001b[39mnot\u001b[39;00m \u001b[39mself\u001b[39m\u001b[39m.\u001b[39m_runs\u001b[39m.\u001b[39mget(path):\n\u001b[0;32m--> 867\u001b[0m     \u001b[39mself\u001b[39m\u001b[39m.\u001b[39m_runs[path] \u001b[39m=\u001b[39m Run(\u001b[39mself\u001b[39;49m\u001b[39m.\u001b[39;49mclient, entity, project, run_id)\n\u001b[1;32m    868\u001b[0m \u001b[39mreturn\u001b[39;00m \u001b[39mself\u001b[39m\u001b[39m.\u001b[39m_runs[path]\n",
      "File \u001b[0;32m~/yolov5_prune/env_2080/lib/python3.8/site-packages/wandb/apis/public.py:1699\u001b[0m, in \u001b[0;36mRun.__init__\u001b[0;34m(self, client, entity, project, run_id, attrs, include_sweeps)\u001b[0m\n\u001b[1;32m   1697\u001b[0m \u001b[39mself\u001b[39m\u001b[39m.\u001b[39m_state \u001b[39m=\u001b[39m _attrs\u001b[39m.\u001b[39mget(\u001b[39m\"\u001b[39m\u001b[39mstate\u001b[39m\u001b[39m\"\u001b[39m, \u001b[39m\"\u001b[39m\u001b[39mnot found\u001b[39m\u001b[39m\"\u001b[39m)\n\u001b[0;32m-> 1699\u001b[0m \u001b[39mself\u001b[39;49m\u001b[39m.\u001b[39;49mload(force\u001b[39m=\u001b[39;49m\u001b[39mnot\u001b[39;49;00m _attrs)\n",
      "File \u001b[0;32m~/yolov5_prune/env_2080/lib/python3.8/site-packages/wandb/apis/public.py:1803\u001b[0m, in \u001b[0;36mRun.load\u001b[0;34m(self, force)\u001b[0m\n\u001b[1;32m   1798\u001b[0m \u001b[39mif\u001b[39;00m (\n\u001b[1;32m   1799\u001b[0m     response \u001b[39mis\u001b[39;00m \u001b[39mNone\u001b[39;00m\n\u001b[1;32m   1800\u001b[0m     \u001b[39mor\u001b[39;00m response\u001b[39m.\u001b[39mget(\u001b[39m\"\u001b[39m\u001b[39mproject\u001b[39m\u001b[39m\"\u001b[39m) \u001b[39mis\u001b[39;00m \u001b[39mNone\u001b[39;00m\n\u001b[1;32m   1801\u001b[0m     \u001b[39mor\u001b[39;00m response[\u001b[39m\"\u001b[39m\u001b[39mproject\u001b[39m\u001b[39m\"\u001b[39m]\u001b[39m.\u001b[39mget(\u001b[39m\"\u001b[39m\u001b[39mrun\u001b[39m\u001b[39m\"\u001b[39m) \u001b[39mis\u001b[39;00m \u001b[39mNone\u001b[39;00m\n\u001b[1;32m   1802\u001b[0m ):\n\u001b[0;32m-> 1803\u001b[0m     \u001b[39mraise\u001b[39;00m \u001b[39mValueError\u001b[39;00m(\u001b[39m\"\u001b[39m\u001b[39mCould not find run \u001b[39m\u001b[39m%s\u001b[39;00m\u001b[39m\"\u001b[39m \u001b[39m%\u001b[39m \u001b[39mself\u001b[39m)\n\u001b[1;32m   1804\u001b[0m \u001b[39mself\u001b[39m\u001b[39m.\u001b[39m_attrs \u001b[39m=\u001b[39m response[\u001b[39m\"\u001b[39m\u001b[39mproject\u001b[39m\u001b[39m\"\u001b[39m][\u001b[39m\"\u001b[39m\u001b[39mrun\u001b[39m\u001b[39m\"\u001b[39m]\n",
      "\u001b[0;31mValueError\u001b[0m: Could not find run <Run home/mosminin/train (not found)>",
      "\nDuring handling of the above exception, another exception occurred:\n",
      "\u001b[0;31mCommError\u001b[0m                                 Traceback (most recent call last)",
      "Cell \u001b[0;32mIn [1], line 4\u001b[0m\n\u001b[1;32m      1\u001b[0m \u001b[39mimport\u001b[39;00m \u001b[39mwandb\u001b[39;00m\n\u001b[1;32m      2\u001b[0m api \u001b[39m=\u001b[39m wandb\u001b[39m.\u001b[39mApi()\n\u001b[0;32m----> 4\u001b[0m run \u001b[39m=\u001b[39m api\u001b[39m.\u001b[39;49mrun(\u001b[39m'\u001b[39;49m\u001b[39m/home/mosminin/yolov5_prune/runs/train\u001b[39;49m\u001b[39m'\u001b[39;49m)\n\u001b[1;32m      5\u001b[0m run\u001b[39m.\u001b[39mupdate()\n",
      "File \u001b[0;32m~/yolov5_prune/env_2080/lib/python3.8/site-packages/wandb/apis/normalize.py:62\u001b[0m, in \u001b[0;36mnormalize_exceptions.<locals>.wrapper\u001b[0;34m(*args, **kwargs)\u001b[0m\n\u001b[1;32m     60\u001b[0m     \u001b[39mraise\u001b[39;00m\n\u001b[1;32m     61\u001b[0m \u001b[39melse\u001b[39;00m:\n\u001b[0;32m---> 62\u001b[0m     \u001b[39mraise\u001b[39;00m CommError(message, err)\u001b[39m.\u001b[39mwith_traceback(sys\u001b[39m.\u001b[39mexc_info()[\u001b[39m2\u001b[39m])\n",
      "File \u001b[0;32m~/yolov5_prune/env_2080/lib/python3.8/site-packages/wandb/apis/normalize.py:26\u001b[0m, in \u001b[0;36mnormalize_exceptions.<locals>.wrapper\u001b[0;34m(*args, **kwargs)\u001b[0m\n\u001b[1;32m     24\u001b[0m message \u001b[39m=\u001b[39m \u001b[39m\"\u001b[39m\u001b[39mWhoa, you found a bug.\u001b[39m\u001b[39m\"\u001b[39m\n\u001b[1;32m     25\u001b[0m \u001b[39mtry\u001b[39;00m:\n\u001b[0;32m---> 26\u001b[0m     \u001b[39mreturn\u001b[39;00m func(\u001b[39m*\u001b[39;49margs, \u001b[39m*\u001b[39;49m\u001b[39m*\u001b[39;49mkwargs)\n\u001b[1;32m     27\u001b[0m \u001b[39mexcept\u001b[39;00m requests\u001b[39m.\u001b[39mHTTPError \u001b[39mas\u001b[39;00m err:\n\u001b[1;32m     28\u001b[0m     \u001b[39mraise\u001b[39;00m CommError(err\u001b[39m.\u001b[39mresponse, err)\n",
      "File \u001b[0;32m~/yolov5_prune/env_2080/lib/python3.8/site-packages/wandb/apis/public.py:867\u001b[0m, in \u001b[0;36mApi.run\u001b[0;34m(self, path)\u001b[0m\n\u001b[1;32m    865\u001b[0m entity, project, run_id \u001b[39m=\u001b[39m \u001b[39mself\u001b[39m\u001b[39m.\u001b[39m_parse_path(path)\n\u001b[1;32m    866\u001b[0m \u001b[39mif\u001b[39;00m \u001b[39mnot\u001b[39;00m \u001b[39mself\u001b[39m\u001b[39m.\u001b[39m_runs\u001b[39m.\u001b[39mget(path):\n\u001b[0;32m--> 867\u001b[0m     \u001b[39mself\u001b[39m\u001b[39m.\u001b[39m_runs[path] \u001b[39m=\u001b[39m Run(\u001b[39mself\u001b[39;49m\u001b[39m.\u001b[39;49mclient, entity, project, run_id)\n\u001b[1;32m    868\u001b[0m \u001b[39mreturn\u001b[39;00m \u001b[39mself\u001b[39m\u001b[39m.\u001b[39m_runs[path]\n",
      "File \u001b[0;32m~/yolov5_prune/env_2080/lib/python3.8/site-packages/wandb/apis/public.py:1699\u001b[0m, in \u001b[0;36mRun.__init__\u001b[0;34m(self, client, entity, project, run_id, attrs, include_sweeps)\u001b[0m\n\u001b[1;32m   1696\u001b[0m \u001b[39mself\u001b[39m\u001b[39m.\u001b[39m_summary \u001b[39m=\u001b[39m \u001b[39mNone\u001b[39;00m\n\u001b[1;32m   1697\u001b[0m \u001b[39mself\u001b[39m\u001b[39m.\u001b[39m_state \u001b[39m=\u001b[39m _attrs\u001b[39m.\u001b[39mget(\u001b[39m\"\u001b[39m\u001b[39mstate\u001b[39m\u001b[39m\"\u001b[39m, \u001b[39m\"\u001b[39m\u001b[39mnot found\u001b[39m\u001b[39m\"\u001b[39m)\n\u001b[0;32m-> 1699\u001b[0m \u001b[39mself\u001b[39;49m\u001b[39m.\u001b[39;49mload(force\u001b[39m=\u001b[39;49m\u001b[39mnot\u001b[39;49;00m _attrs)\n",
      "File \u001b[0;32m~/yolov5_prune/env_2080/lib/python3.8/site-packages/wandb/apis/public.py:1803\u001b[0m, in \u001b[0;36mRun.load\u001b[0;34m(self, force)\u001b[0m\n\u001b[1;32m   1797\u001b[0m response \u001b[39m=\u001b[39m \u001b[39mself\u001b[39m\u001b[39m.\u001b[39m_exec(query)\n\u001b[1;32m   1798\u001b[0m \u001b[39mif\u001b[39;00m (\n\u001b[1;32m   1799\u001b[0m     response \u001b[39mis\u001b[39;00m \u001b[39mNone\u001b[39;00m\n\u001b[1;32m   1800\u001b[0m     \u001b[39mor\u001b[39;00m response\u001b[39m.\u001b[39mget(\u001b[39m\"\u001b[39m\u001b[39mproject\u001b[39m\u001b[39m\"\u001b[39m) \u001b[39mis\u001b[39;00m \u001b[39mNone\u001b[39;00m\n\u001b[1;32m   1801\u001b[0m     \u001b[39mor\u001b[39;00m response[\u001b[39m\"\u001b[39m\u001b[39mproject\u001b[39m\u001b[39m\"\u001b[39m]\u001b[39m.\u001b[39mget(\u001b[39m\"\u001b[39m\u001b[39mrun\u001b[39m\u001b[39m\"\u001b[39m) \u001b[39mis\u001b[39;00m \u001b[39mNone\u001b[39;00m\n\u001b[1;32m   1802\u001b[0m ):\n\u001b[0;32m-> 1803\u001b[0m     \u001b[39mraise\u001b[39;00m \u001b[39mValueError\u001b[39;00m(\u001b[39m\"\u001b[39m\u001b[39mCould not find run \u001b[39m\u001b[39m%s\u001b[39;00m\u001b[39m\"\u001b[39m \u001b[39m%\u001b[39m \u001b[39mself\u001b[39m)\n\u001b[1;32m   1804\u001b[0m \u001b[39mself\u001b[39m\u001b[39m.\u001b[39m_attrs \u001b[39m=\u001b[39m response[\u001b[39m\"\u001b[39m\u001b[39mproject\u001b[39m\u001b[39m\"\u001b[39m][\u001b[39m\"\u001b[39m\u001b[39mrun\u001b[39m\u001b[39m\"\u001b[39m]\n\u001b[1;32m   1805\u001b[0m \u001b[39mself\u001b[39m\u001b[39m.\u001b[39m_state \u001b[39m=\u001b[39m \u001b[39mself\u001b[39m\u001b[39m.\u001b[39m_attrs[\u001b[39m\"\u001b[39m\u001b[39mstate\u001b[39m\u001b[39m\"\u001b[39m]\n",
      "\u001b[0;31mCommError\u001b[0m: Could not find run <Run home/mosminin/train (not found)>"
     ]
    }
   ],
   "source": [
    "import wandb\n",
    "api = wandb.Api()\n",
    "\n",
    "run = api.run('/home/mosminin/yolov5_prune/runs/train')\n",
    "run.update()\n"
   ]
  },
  {
   "cell_type": "code",
   "execution_count": null,
   "id": "8b72cf63",
   "metadata": {},
   "outputs": [],
   "source": []
  }
 ],
 "metadata": {
  "kernelspec": {
   "display_name": "Python 3.8.10 ('env_2080': venv)",
   "language": "python",
   "name": "python3"
  },
  "language_info": {
   "codemirror_mode": {
    "name": "ipython",
    "version": 3
   },
   "file_extension": ".py",
   "mimetype": "text/x-python",
   "name": "python",
   "nbconvert_exporter": "python",
   "pygments_lexer": "ipython3",
   "version": "3.8.10"
  },
  "vscode": {
   "interpreter": {
    "hash": "a905abe9e70db9de3eb02a24535f949144df167f843a9aeb57b50bdeb1189a46"
   }
  }
 },
 "nbformat": 4,
 "nbformat_minor": 5
}
