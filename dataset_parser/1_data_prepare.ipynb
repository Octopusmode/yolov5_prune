{
 "cells": [
  {
   "cell_type": "code",
   "execution_count": null,
   "metadata": {},
   "outputs": [],
   "source": [
    "# Print iterations progress\n",
    "def printProgressBar (iteration, total, prefix = '', suffix = '', decimals = 1, length = 100, fill = '█', printEnd = \"\\r\"):\n",
    "    \"\"\"\n",
    "    Call in a loop to create terminal progress bar\n",
    "    @params:\n",
    "        iteration   - Required  : current iteration (Int)\n",
    "        total       - Required  : total iterations (Int)\n",
    "        prefix      - Optional  : prefix string (Str)\n",
    "        suffix      - Optional  : suffix string (Str)\n",
    "        decimals    - Optional  : positive number of decimals in percent complete (Int)\n",
    "        length      - Optional  : character length of bar (Int)\n",
    "        fill        - Optional  : bar fill character (Str)\n",
    "        printEnd    - Optional  : end character (e.g. \"\\r\", \"\\r\\n\") (Str)\n",
    "    \"\"\"\n",
    "    percent = (\"{0:.\" + str(decimals) + \"f}\").format(100 * (iteration / float(total)))\n",
    "    filledLength = int(length * iteration // total)\n",
    "    bar = fill * filledLength + '-' * (length - filledLength)\n",
    "    print(f'\\r{prefix} |{bar}| {percent}% {suffix}', end = printEnd)\n",
    "    # Print New Line on Complete\n",
    "    if iteration == total: \n",
    "        print()"
   ]
  },
  {
   "cell_type": "markdown",
   "metadata": {},
   "source": [
    "import time\n",
    "\n",
    "# A List of Items\n",
    "items = list(range(0, 57))\n",
    "l = len(items)\n",
    "\n",
    "# Initial call to print 0% progress\n",
    "printProgressBar(0, l, prefix = 'Progress:', suffix = 'Complete', length = 50)\n",
    "for i, item in enumerate(items):\n",
    "    # Do stuff...\n",
    "    time.sleep(0.1)\n",
    "    # Update Progress Bar\n",
    "    printProgressBar(i + 1, l, prefix = 'Progress:', suffix = 'Complete', length = 50)"
   ]
  },
  {
   "cell_type": "code",
   "execution_count": null,
   "metadata": {},
   "outputs": [],
   "source": [
    "class_list = ['person', 'car', 'motorcycle', 'bus', 'truck']"
   ]
  },
  {
   "cell_type": "code",
   "execution_count": null,
   "metadata": {},
   "outputs": [],
   "source": [
    "coco_classes = ['person', 'bicycle', 'car', 'motorcycle', 'airplane', 'bus', 'train', 'truck', 'boat', 'traffic light',\n",
    "        'fire hydrant', 'stop sign', 'parking meter', 'bench', 'bird', 'cat', 'dog', 'horse', 'sheep', 'cow',\n",
    "        'elephant', 'bear', 'zebra', 'giraffe', 'backpack', 'umbrella', 'handbag', 'tie', 'suitcase', 'frisbee',\n",
    "        'skis', 'snowboard', 'sports ball', 'kite', 'baseball bat', 'baseball glove', 'skateboard', 'surfboard',\n",
    "        'tennis racket', 'bottle', 'wine glass', 'cup', 'fork', 'knife', 'spoon', 'bowl', 'banana', 'apple',\n",
    "        'sandwich', 'orange', 'broccoli', 'carrot', 'hot dog', 'pizza', 'donut', 'cake', 'chair', 'couch',\n",
    "        'potted plant', 'bed', 'dining table', 'toilet', 'tv', 'laptop', 'mouse', 'remote', 'keyboard', 'cell phone',\n",
    "        'microwave', 'oven', 'toaster', 'sink', 'refrigerator', 'book', 'clock', 'vase', 'scissors', 'teddy bear',\n",
    "        'hair drier', 'toothbrush']"
   ]
  },
  {
   "cell_type": "code",
   "execution_count": null,
   "metadata": {},
   "outputs": [],
   "source": [
    "def list_exclude(a, b):\n",
    "    return [element for element in a if element not in b]\n",
    "\n",
    "class_list = list_exclude(coco_classes, class_list)\n",
    "class_list"
   ]
  },
  {
   "cell_type": "code",
   "execution_count": null,
   "metadata": {},
   "outputs": [],
   "source": [
    "class_list"
   ]
  },
  {
   "cell_type": "code",
   "execution_count": null,
   "metadata": {},
   "outputs": [],
   "source": [
    "def list_index_to_exclude(a, b):\n",
    "    exclude = []\n",
    "    for each in b:\n",
    "        print(each)\n",
    "        for index, element in enumerate(a):\n",
    "            # print(index, element, sep=': ')\n",
    "            if each == element:\n",
    "                exclude.append(str(index))\n",
    "                break\n",
    "    return exclude\n",
    "\n",
    "exclude_list = list_index_to_exclude(coco_classes, class_list)\n",
    "exclude_list"
   ]
  },
  {
   "cell_type": "code",
   "execution_count": null,
   "metadata": {},
   "outputs": [],
   "source": [
    "data_dir = '/home/mosminin/fiftyone/coco_pv_base'\n",
    "\n",
    "\n",
    "import fiftyone as fo\n",
    "import fiftyone.zoo as foz\n",
    "\n",
    "dataset = foz.load_zoo_dataset(\n",
    "    \"coco-2017\",\n",
    "    splits=[\"train\", \"validation\"],\n",
    "    # splits=[\"validation\"],\n",
    "    # split='train',\n",
    "    dataset_dir=data_dir,\n",
    "    dataset_name='coco_not_pv',\n",
    "    classes=class_list,\n",
    "    drop_existing_dataset=True,\n",
    "    # only_matching=True,\n",
    "    shuffle=True,\n",
    ")\n",
    "\n",
    "# Visualize the dataset in the FiftyOne App\n",
    "# session = fo.launch_app(dataset)"
   ]
  },
  {
   "cell_type": "code",
   "execution_count": null,
   "metadata": {},
   "outputs": [],
   "source": [
    "dataset = fo.load_dataset('coco_pv_base')"
   ]
  },
  {
   "cell_type": "code",
   "execution_count": null,
   "metadata": {},
   "outputs": [],
   "source": [
    "dataset"
   ]
  },
  {
   "cell_type": "code",
   "execution_count": null,
   "metadata": {},
   "outputs": [],
   "source": [
    "import fiftyone as fo\n",
    "export_dir = '/home/mosminin/fiftyone/coco_pv_export'\n",
    "label_field = \"ground_truth\"  # for example\n",
    "# The splits to export\n",
    "splits = ['train', 'validation']\n",
    "# All splits must use the same classes list\n",
    "classes = class_list\n",
    "print(classes)\n",
    "\n",
    "# Export the splits\n",
    "for split in splits:\n",
    "    split_view = dataset.match_tags(split)\n",
    "    split_view.export(\n",
    "        export_dir=export_dir,\n",
    "        dataset_type=fo.types.YOLOv5Dataset,\n",
    "        label_field=label_field,\n",
    "        split=split,\n",
    "        classes=classes,\n",
    "    )"
   ]
  },
  {
   "cell_type": "code",
   "execution_count": null,
   "metadata": {},
   "outputs": [],
   "source": [
    "labels_path = '/home/mosminin/fiftyone/coco_pv_export/labels/'\n",
    "images_path = '/home/mosminin/fiftyone/coco_pv_export/images/'\n",
    "\n",
    "from pathlib import Path\n",
    "data_type = 'validation'\n",
    "files = Path(f'{labels_path}/{data_type}/').glob('*.txt')\n",
    "img_path = f'{images_path}/{data_type}'\n",
    "name_list = list(map(str, files))\n",
    "print(len(name_list), name_list[:3], sep='\\n')"
   ]
  },
  {
   "cell_type": "code",
   "execution_count": null,
   "metadata": {},
   "outputs": [],
   "source": [
    "# importing pandas\n",
    "import pandas as pd\n",
    "  \n",
    "file_list=name_list\n",
    "l = len(file_list)\n",
    "  \n",
    "main_dataframe = pd.DataFrame(pd.read_table(file_list[0], sep='\\s+', header = None, engine='python'))\n",
    "\n",
    "printProgressBar(0, l, prefix = 'Progress:', suffix = 'Complete', length = 50)\n",
    "  \n",
    "for i in range(1,len(file_list)):\n",
    "    data = pd.read_table(file_list[i], sep='\\s+', header = None, engine='python')\n",
    "    df = pd.DataFrame(data) #, columns= ['cls', 'bbox_x', 'bbox_y', 'bbox_w', 'bbox_h']\n",
    "    main_dataframe = pd.concat([main_dataframe,df],axis=0, ignore_index=True)\n",
    "    printProgressBar(i + 1, l, prefix = 'Progress:', suffix = 'Complete', length = 50)\n",
    "    \n",
    "main_dataframe.columns=['cls', 'x', 'y', 'w', 'h']\n",
    "\n",
    "compression_opts = dict(method='zip',\n",
    "                        archive_name='out.csv')  \n",
    "main_dataframe.to_csv('out.zip', index=False,\n",
    "          compression=compression_opts)  \n"
   ]
  },
  {
   "cell_type": "code",
   "execution_count": null,
   "metadata": {},
   "outputs": [],
   "source": [
    "print(main_dataframe['cls'].value_counts(sort=True))\n",
    "main_dataframe['cls'].value_counts(sort=True).plot(kind='bar')"
   ]
  },
  {
   "cell_type": "code",
   "execution_count": null,
   "metadata": {},
   "outputs": [],
   "source": [
    "len(name_list)"
   ]
  }
 ],
 "metadata": {
  "kernelspec": {
   "display_name": "Python 3.8.10 64-bit",
   "language": "python",
   "name": "python3"
  },
  "language_info": {
   "codemirror_mode": {
    "name": "ipython",
    "version": 3
   },
   "file_extension": ".py",
   "mimetype": "text/x-python",
   "name": "python",
   "nbconvert_exporter": "python",
   "pygments_lexer": "ipython3",
   "version": "3.8.10"
  },
  "orig_nbformat": 4,
  "vscode": {
   "interpreter": {
    "hash": "e7370f93d1d0cde622a1f8e1c04877d8463912d04d973331ad4851f04de6915a"
   }
  }
 },
 "nbformat": 4,
 "nbformat_minor": 2
}
