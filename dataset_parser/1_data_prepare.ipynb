{
 "cells": [
  {
   "cell_type": "code",
   "execution_count": 1,
   "metadata": {},
   "outputs": [
    {
     "name": "stdout",
     "output_type": "stream",
     "text": [
      "Package           Version\n",
      "----------------- --------------\n",
      "asttokens         2.2.1\n",
      "backcall          0.2.0\n",
      "Brlapi            0.8.2\n",
      "certifi           2020.6.20\n",
      "chardet           4.0.0\n",
      "comm              0.1.2\n",
      "cupshelpers       1.0\n",
      "dbus-python       1.2.16\n",
      "debugpy           1.6.4\n",
      "decorator         5.1.1\n",
      "entrypoints       0.4\n",
      "executing         1.2.0\n",
      "feedparser        5.2.1\n",
      "httplib2          0.18.1\n",
      "idna              2.10\n",
      "ipykernel         6.19.2\n",
      "ipython           8.7.0\n",
      "jedi              0.18.2\n",
      "jupyter-client    7.4.8\n",
      "jupyter-core      5.1.0\n",
      "louis             3.16.0\n",
      "matplotlib-inline 0.1.6\n",
      "musicbrainzngs    0.7.1\n",
      "mutagen           1.45.1\n",
      "nest-asyncio      1.5.6\n",
      "packaging         22.0\n",
      "parso             0.8.3\n",
      "pexpect           4.8.0\n",
      "pickleshare       0.7.5\n",
      "pip               20.3.4\n",
      "platformdirs      2.6.0\n",
      "prompt-toolkit    3.0.36\n",
      "psutil            5.9.4\n",
      "ptyprocess        0.7.0\n",
      "pure-eval         0.2.2\n",
      "pycairo           1.16.2\n",
      "pycups            2.0.1\n",
      "pycurl            7.43.0.6\n",
      "Pygments          2.13.0\n",
      "PyGObject         3.38.0\n",
      "pyinotify         0.9.6\n",
      "PySimpleSOAP      1.16.2\n",
      "pysmbc            1.0.23\n",
      "python-apt        2.2.1\n",
      "python-dateutil   2.8.2\n",
      "python-debian     0.1.39\n",
      "python-debianbts  3.1.0\n",
      "pyxdg             0.27\n",
      "pyzmq             24.0.1\n",
      "quodlibet         4.3.0\n",
      "reportbug         7.10.3+deb11u1\n",
      "requests          2.25.1\n",
      "setuptools        52.0.0\n",
      "six               1.16.0\n",
      "stack-data        0.6.2\n",
      "tornado           6.2\n",
      "traitlets         5.7.1\n",
      "urllib3           1.26.5\n",
      "wcwidth           0.2.5\n",
      "wheel             0.34.2\n",
      "xdg               5\n"
     ]
    }
   ],
   "source": [
    "!pip list"
   ]
  },
  {
   "cell_type": "code",
   "execution_count": 9,
   "metadata": {},
   "outputs": [],
   "source": [
    "# Print iterations progress\n",
    "def printProgressBar (iteration, total, prefix = '', suffix = '', decimals = 1, length = 100, fill = '█', printEnd = \"\\r\"):\n",
    "    \"\"\"\n",
    "    Call in a loop to create terminal progress bar\n",
    "    @params:\n",
    "        iteration   - Required  : current iteration (Int)\n",
    "        total       - Required  : total iterations (Int)\n",
    "        prefix      - Optional  : prefix string (Str)\n",
    "        suffix      - Optional  : suffix string (Str)\n",
    "        decimals    - Optional  : positive number of decimals in percent complete (Int)\n",
    "        length      - Optional  : character length of bar (Int)\n",
    "        fill        - Optional  : bar fill character (Str)\n",
    "        printEnd    - Optional  : end character (e.g. \"\\r\", \"\\r\\n\") (Str)\n",
    "    \"\"\"\n",
    "    percent = (\"{0:.\" + str(decimals) + \"f}\").format(100 * (iteration / float(total)))\n",
    "    filledLength = int(length * iteration // total)\n",
    "    bar = fill * filledLength + '-' * (length - filledLength)\n",
    "    print(f'\\r{prefix} |{bar}| {percent}% {suffix}', end = printEnd)\n",
    "    # Print New Line on Complete\n",
    "    if iteration == total: \n",
    "        print()"
   ]
  },
  {
   "cell_type": "markdown",
   "metadata": {},
   "source": [
    "import time\n",
    "\n",
    "# A List of Items\n",
    "items = list(range(0, 57))\n",
    "l = len(items)\n",
    "\n",
    "# Initial call to print 0% progress\n",
    "printProgressBar(0, l, prefix = 'Progress:', suffix = 'Complete', length = 50)\n",
    "for i, item in enumerate(items):\n",
    "    # Do stuff...\n",
    "    time.sleep(0.1)\n",
    "    # Update Progress Bar\n",
    "    printProgressBar(i + 1, l, prefix = 'Progress:', suffix = 'Complete', length = 50)"
   ]
  },
  {
   "cell_type": "code",
   "execution_count": 1,
   "metadata": {},
   "outputs": [],
   "source": [
    "class_list = ['person', 'car']"
   ]
  },
  {
   "cell_type": "code",
   "execution_count": 4,
   "metadata": {},
   "outputs": [],
   "source": [
    "coco_classes = ['person', 'bicycle', 'car', 'motorcycle', 'airplane', 'bus', 'train', 'truck', 'boat', 'traffic light',\n",
    "        'fire hydrant', 'stop sign', 'parking meter', 'bench', 'bird', 'cat', 'dog', 'horse', 'sheep', 'cow',\n",
    "        'elephant', 'bear', 'zebra', 'giraffe', 'backpack', 'umbrella', 'handbag', 'tie', 'suitcase', 'frisbee',\n",
    "        'skis', 'snowboard', 'sports ball', 'kite', 'baseball bat', 'baseball glove', 'skateboard', 'surfboard',\n",
    "        'tennis racket', 'bottle', 'wine glass', 'cup', 'fork', 'knife', 'spoon', 'bowl', 'banana', 'apple',\n",
    "        'sandwich', 'orange', 'broccoli', 'carrot', 'hot dog', 'pizza', 'donut', 'cake', 'chair', 'couch',\n",
    "        'potted plant', 'bed', 'dining table', 'toilet', 'tv', 'laptop', 'mouse', 'remote', 'keyboard', 'cell phone',\n",
    "        'microwave', 'oven', 'toaster', 'sink', 'refrigerator', 'book', 'clock', 'vase', 'scissors', 'teddy bear',\n",
    "        'hair drier', 'toothbrush']"
   ]
  },
  {
   "cell_type": "code",
   "execution_count": null,
   "metadata": {},
   "outputs": [],
   "source": [
    "def list_exclude(a, b):\n",
    "    return [element for element in a if element not in b]\n",
    "\n",
    "class_list = list_exclude(coco_classes, class_list)\n",
    "class_list"
   ]
  },
  {
   "cell_type": "code",
   "execution_count": 2,
   "metadata": {},
   "outputs": [
    {
     "data": {
      "text/plain": [
       "['person', 'car']"
      ]
     },
     "execution_count": 2,
     "metadata": {},
     "output_type": "execute_result"
    }
   ],
   "source": [
    "class_list"
   ]
  },
  {
   "cell_type": "code",
   "execution_count": null,
   "metadata": {},
   "outputs": [],
   "source": [
    "def list_index_to_exclude(a, b):\n",
    "    exclude = []\n",
    "    for each in b:\n",
    "        print(each)\n",
    "        for index, element in enumerate(a):\n",
    "            # print(index, element, sep=': ')\n",
    "            if each == element:\n",
    "                exclude.append(str(index))\n",
    "                break\n",
    "    return exclude\n",
    "\n",
    "exclude_list = list_index_to_exclude(coco_classes, class_list)\n",
    "exclude_list"
   ]
  },
  {
   "cell_type": "code",
   "execution_count": 3,
   "metadata": {},
   "outputs": [
    {
     "name": "stdout",
     "output_type": "stream",
     "text": [
      "Downloading split 'train' to '/home/mosminin/fiftyone/coco_pc/train' if necessary\n",
      "Downloading annotations to '/home/mosminin/fiftyone/coco_pc/tmp-download/annotations_trainval2017.zip'\n",
      " 100% |██████|    1.9Gb/1.9Gb [26.3s elapsed, 0s remaining, 90.3Mb/s]      \n",
      "Extracting annotations to '/home/mosminin/fiftyone/coco_pc/raw/instances_train2017.json'\n",
      "Downloading 67847 images\n",
      "   1% |/-------------|   658/67847 [27.8s elapsed, 47.3m remaining, 23.9 images/s]  \n"
     ]
    },
    {
     "ename": "KeyboardInterrupt",
     "evalue": "",
     "output_type": "error",
     "traceback": [
      "\u001b[0;31m---------------------------------------------------------------------------\u001b[0m",
      "\u001b[0;31mIndexError\u001b[0m                                Traceback (most recent call last)",
      "File \u001b[0;32m/usr/lib/python3.9/multiprocessing/pool.py:853\u001b[0m, in \u001b[0;36mIMapIterator.next\u001b[0;34m(self, timeout)\u001b[0m\n\u001b[1;32m    852\u001b[0m \u001b[39mtry\u001b[39;00m:\n\u001b[0;32m--> 853\u001b[0m     item \u001b[39m=\u001b[39m \u001b[39mself\u001b[39;49m\u001b[39m.\u001b[39;49m_items\u001b[39m.\u001b[39;49mpopleft()\n\u001b[1;32m    854\u001b[0m \u001b[39mexcept\u001b[39;00m \u001b[39mIndexError\u001b[39;00m:\n",
      "\u001b[0;31mIndexError\u001b[0m: pop from an empty deque",
      "\nDuring handling of the above exception, another exception occurred:\n",
      "\u001b[0;31mKeyboardInterrupt\u001b[0m                         Traceback (most recent call last)",
      "Cell \u001b[0;32mIn[3], line 7\u001b[0m\n\u001b[1;32m      4\u001b[0m \u001b[39mimport\u001b[39;00m \u001b[39mfiftyone\u001b[39;00m \u001b[39mas\u001b[39;00m \u001b[39mfo\u001b[39;00m\n\u001b[1;32m      5\u001b[0m \u001b[39mimport\u001b[39;00m \u001b[39mfiftyone\u001b[39;00m\u001b[39m.\u001b[39;00m\u001b[39mzoo\u001b[39;00m \u001b[39mas\u001b[39;00m \u001b[39mfoz\u001b[39;00m\n\u001b[0;32m----> 7\u001b[0m dataset \u001b[39m=\u001b[39m foz\u001b[39m.\u001b[39;49mload_zoo_dataset(\n\u001b[1;32m      8\u001b[0m     \u001b[39m\"\u001b[39;49m\u001b[39mcoco-2017\u001b[39;49m\u001b[39m\"\u001b[39;49m,\n\u001b[1;32m      9\u001b[0m     splits\u001b[39m=\u001b[39;49m[\u001b[39m\"\u001b[39;49m\u001b[39mtrain\u001b[39;49m\u001b[39m\"\u001b[39;49m, \u001b[39m\"\u001b[39;49m\u001b[39mvalidation\u001b[39;49m\u001b[39m\"\u001b[39;49m],\n\u001b[1;32m     10\u001b[0m     \u001b[39m# splits=[\"validation\"],\u001b[39;49;00m\n\u001b[1;32m     11\u001b[0m     \u001b[39m# split='train',\u001b[39;49;00m\n\u001b[1;32m     12\u001b[0m     dataset_dir\u001b[39m=\u001b[39;49mdata_dir,\n\u001b[1;32m     13\u001b[0m     dataset_name\u001b[39m=\u001b[39;49m\u001b[39m'\u001b[39;49m\u001b[39mcoco_pc\u001b[39;49m\u001b[39m'\u001b[39;49m,\n\u001b[1;32m     14\u001b[0m     classes\u001b[39m=\u001b[39;49mclass_list,\n\u001b[1;32m     15\u001b[0m     drop_existing_dataset\u001b[39m=\u001b[39;49m\u001b[39mTrue\u001b[39;49;00m,\n\u001b[1;32m     16\u001b[0m     only_matching\u001b[39m=\u001b[39;49m\u001b[39mTrue\u001b[39;49;00m,\n\u001b[1;32m     17\u001b[0m     shuffle\u001b[39m=\u001b[39;49m\u001b[39mTrue\u001b[39;49;00m,\n\u001b[1;32m     18\u001b[0m )\n\u001b[1;32m     20\u001b[0m \u001b[39m# Visualize the dataset in the FiftyOne App\u001b[39;00m\n\u001b[1;32m     21\u001b[0m \u001b[39m# session = fo.launch_app(dataset)\u001b[39;00m\n",
      "File \u001b[0;32m~/.local/lib/python3.9/site-packages/fiftyone/zoo/datasets/__init__.py:197\u001b[0m, in \u001b[0;36mload_zoo_dataset\u001b[0;34m(name, split, splits, label_field, dataset_name, dataset_dir, download_if_necessary, drop_existing_dataset, overwrite, cleanup, **kwargs)\u001b[0m\n\u001b[1;32m    192\u001b[0m     zoo_dataset_cls \u001b[39m=\u001b[39m _get_zoo_dataset_cls(name)\n\u001b[1;32m    193\u001b[0m     download_kwargs, _ \u001b[39m=\u001b[39m fou\u001b[39m.\u001b[39mextract_kwargs_for_class(\n\u001b[1;32m    194\u001b[0m         zoo_dataset_cls, kwargs\n\u001b[1;32m    195\u001b[0m     )\n\u001b[0;32m--> 197\u001b[0m     info, dataset_dir \u001b[39m=\u001b[39m download_zoo_dataset(\n\u001b[1;32m    198\u001b[0m         name,\n\u001b[1;32m    199\u001b[0m         splits\u001b[39m=\u001b[39;49msplits,\n\u001b[1;32m    200\u001b[0m         dataset_dir\u001b[39m=\u001b[39;49mdataset_dir,\n\u001b[1;32m    201\u001b[0m         overwrite\u001b[39m=\u001b[39;49moverwrite,\n\u001b[1;32m    202\u001b[0m         cleanup\u001b[39m=\u001b[39;49mcleanup,\n\u001b[1;32m    203\u001b[0m         \u001b[39m*\u001b[39;49m\u001b[39m*\u001b[39;49mdownload_kwargs,\n\u001b[1;32m    204\u001b[0m     )\n\u001b[1;32m    205\u001b[0m     zoo_dataset \u001b[39m=\u001b[39m info\u001b[39m.\u001b[39mget_zoo_dataset()\n\u001b[1;32m    206\u001b[0m \u001b[39melse\u001b[39;00m:\n",
      "File \u001b[0;32m~/.local/lib/python3.9/site-packages/fiftyone/zoo/datasets/__init__.py:116\u001b[0m, in \u001b[0;36mdownload_zoo_dataset\u001b[0;34m(name, split, splits, dataset_dir, overwrite, cleanup, **kwargs)\u001b[0m\n\u001b[1;32m     81\u001b[0m \u001b[39m\"\"\"Downloads the dataset of the given name from the FiftyOne Dataset Zoo.\u001b[39;00m\n\u001b[1;32m     82\u001b[0m \n\u001b[1;32m     83\u001b[0m \u001b[39mAny dataset splits that already exist in the specified directory are not\u001b[39;00m\n\u001b[0;32m   (...)\u001b[0m\n\u001b[1;32m    111\u001b[0m \u001b[39m    -   dataset_dir: the directory containing the dataset\u001b[39;00m\n\u001b[1;32m    112\u001b[0m \u001b[39m\"\"\"\u001b[39;00m\n\u001b[1;32m    113\u001b[0m zoo_dataset, dataset_dir \u001b[39m=\u001b[39m _parse_dataset_details(\n\u001b[1;32m    114\u001b[0m     name, dataset_dir, \u001b[39m*\u001b[39m\u001b[39m*\u001b[39mkwargs\n\u001b[1;32m    115\u001b[0m )\n\u001b[0;32m--> 116\u001b[0m \u001b[39mreturn\u001b[39;00m zoo_dataset\u001b[39m.\u001b[39;49mdownload_and_prepare(\n\u001b[1;32m    117\u001b[0m     dataset_dir\u001b[39m=\u001b[39;49mdataset_dir,\n\u001b[1;32m    118\u001b[0m     split\u001b[39m=\u001b[39;49msplit,\n\u001b[1;32m    119\u001b[0m     splits\u001b[39m=\u001b[39;49msplits,\n\u001b[1;32m    120\u001b[0m     overwrite\u001b[39m=\u001b[39;49moverwrite,\n\u001b[1;32m    121\u001b[0m     cleanup\u001b[39m=\u001b[39;49mcleanup,\n\u001b[1;32m    122\u001b[0m )\n",
      "File \u001b[0;32m~/.local/lib/python3.9/site-packages/fiftyone/zoo/datasets/__init__.py:1016\u001b[0m, in \u001b[0;36mZooDataset.download_and_prepare\u001b[0;34m(self, dataset_dir, split, splits, overwrite, cleanup)\u001b[0m\n\u001b[1;32m   1004\u001b[0m \u001b[39melse\u001b[39;00m:\n\u001b[1;32m   1005\u001b[0m     logger\u001b[39m.\u001b[39minfo(\n\u001b[1;32m   1006\u001b[0m         \u001b[39m\"\u001b[39m\u001b[39mDownloading split \u001b[39m\u001b[39m'\u001b[39m\u001b[39m%s\u001b[39;00m\u001b[39m'\u001b[39m\u001b[39m to \u001b[39m\u001b[39m'\u001b[39m\u001b[39m%s\u001b[39;00m\u001b[39m'\u001b[39m\u001b[39m%s\u001b[39;00m\u001b[39m\"\u001b[39m,\n\u001b[1;32m   1007\u001b[0m         split,\n\u001b[1;32m   1008\u001b[0m         split_dir,\n\u001b[1;32m   1009\u001b[0m         suffix,\n\u001b[1;32m   1010\u001b[0m     )\n\u001b[1;32m   1012\u001b[0m (\n\u001b[1;32m   1013\u001b[0m     dataset_type,\n\u001b[1;32m   1014\u001b[0m     num_samples,\n\u001b[1;32m   1015\u001b[0m     classes,\n\u001b[0;32m-> 1016\u001b[0m ) \u001b[39m=\u001b[39m \u001b[39mself\u001b[39;49m\u001b[39m.\u001b[39;49m_download_and_prepare(split_dir, scratch_dir, split)\n\u001b[1;32m   1018\u001b[0m \u001b[39m# Add split to ZooDatasetInfo\u001b[39;00m\n\u001b[1;32m   1019\u001b[0m \u001b[39mif\u001b[39;00m info \u001b[39mis\u001b[39;00m \u001b[39mNone\u001b[39;00m:\n",
      "File \u001b[0;32m~/.local/lib/python3.9/site-packages/fiftyone/zoo/datasets/base.py:1146\u001b[0m, in \u001b[0;36mCOCO2017Dataset._download_and_prepare\u001b[0;34m(self, dataset_dir, scratch_dir, split)\u001b[0m\n\u001b[1;32m   1145\u001b[0m \u001b[39mdef\u001b[39;00m \u001b[39m_download_and_prepare\u001b[39m(\u001b[39mself\u001b[39m, dataset_dir, scratch_dir, split):\n\u001b[0;32m-> 1146\u001b[0m     num_samples, classes, downloaded \u001b[39m=\u001b[39m fouc\u001b[39m.\u001b[39;49mdownload_coco_dataset_split(\n\u001b[1;32m   1147\u001b[0m         dataset_dir,\n\u001b[1;32m   1148\u001b[0m         split,\n\u001b[1;32m   1149\u001b[0m         year\u001b[39m=\u001b[39;49m\u001b[39m\"\u001b[39;49m\u001b[39m2017\u001b[39;49m\u001b[39m\"\u001b[39;49m,\n\u001b[1;32m   1150\u001b[0m         label_types\u001b[39m=\u001b[39;49m\u001b[39mself\u001b[39;49m\u001b[39m.\u001b[39;49mlabel_types,\n\u001b[1;32m   1151\u001b[0m         classes\u001b[39m=\u001b[39;49m\u001b[39mself\u001b[39;49m\u001b[39m.\u001b[39;49mclasses,\n\u001b[1;32m   1152\u001b[0m         image_ids\u001b[39m=\u001b[39;49m\u001b[39mself\u001b[39;49m\u001b[39m.\u001b[39;49mimage_ids,\n\u001b[1;32m   1153\u001b[0m         num_workers\u001b[39m=\u001b[39;49m\u001b[39mself\u001b[39;49m\u001b[39m.\u001b[39;49mnum_workers,\n\u001b[1;32m   1154\u001b[0m         shuffle\u001b[39m=\u001b[39;49m\u001b[39mself\u001b[39;49m\u001b[39m.\u001b[39;49mshuffle,\n\u001b[1;32m   1155\u001b[0m         seed\u001b[39m=\u001b[39;49m\u001b[39mself\u001b[39;49m\u001b[39m.\u001b[39;49mseed,\n\u001b[1;32m   1156\u001b[0m         max_samples\u001b[39m=\u001b[39;49m\u001b[39mself\u001b[39;49m\u001b[39m.\u001b[39;49mmax_samples,\n\u001b[1;32m   1157\u001b[0m         raw_dir\u001b[39m=\u001b[39;49m\u001b[39mself\u001b[39;49m\u001b[39m.\u001b[39;49m_get_raw_dir(dataset_dir),\n\u001b[1;32m   1158\u001b[0m         scratch_dir\u001b[39m=\u001b[39;49mscratch_dir,\n\u001b[1;32m   1159\u001b[0m     )\n\u001b[1;32m   1161\u001b[0m     dataset_type \u001b[39m=\u001b[39m fot\u001b[39m.\u001b[39mCOCODetectionDataset()\n\u001b[1;32m   1163\u001b[0m     \u001b[39mif\u001b[39;00m \u001b[39mnot\u001b[39;00m downloaded:\n",
      "File \u001b[0;32m~/.local/lib/python3.9/site-packages/fiftyone/utils/coco.py:1695\u001b[0m, in \u001b[0;36mdownload_coco_dataset_split\u001b[0;34m(dataset_dir, split, year, label_types, classes, image_ids, num_workers, shuffle, seed, max_samples, raw_dir, scratch_dir)\u001b[0m\n\u001b[1;32m   1692\u001b[0m         logger\u001b[39m.\u001b[39minfo(\u001b[39m\"\u001b[39m\u001b[39mDownloading \u001b[39m\u001b[39m%d\u001b[39;00m\u001b[39m images\u001b[39m\u001b[39m\"\u001b[39m, num_download)\n\u001b[1;32m   1694\u001b[0m     \u001b[39mif\u001b[39;00m num_download \u001b[39m>\u001b[39m \u001b[39m0\u001b[39m:\n\u001b[0;32m-> 1695\u001b[0m         _download_images(images_dir, download_ids, images, num_workers)\n\u001b[1;32m   1696\u001b[0m         did_download \u001b[39m=\u001b[39m \u001b[39mTrue\u001b[39;00m\n\u001b[1;32m   1698\u001b[0m downloaded_filenames \u001b[39m=\u001b[39m etau\u001b[39m.\u001b[39mlist_files(images_dir)\n",
      "File \u001b[0;32m~/.local/lib/python3.9/site-packages/fiftyone/utils/coco.py:1875\u001b[0m, in \u001b[0;36m_download_images\u001b[0;34m(images_dir, image_ids, images, num_workers)\u001b[0m\n\u001b[1;32m   1873\u001b[0m \u001b[39mwith\u001b[39;00m fou\u001b[39m.\u001b[39mProgressBar(total\u001b[39m=\u001b[39m\u001b[39mlen\u001b[39m(tasks), iters_str\u001b[39m=\u001b[39m\u001b[39m\"\u001b[39m\u001b[39mimages\u001b[39m\u001b[39m\"\u001b[39m) \u001b[39mas\u001b[39;00m pb:\n\u001b[1;32m   1874\u001b[0m     \u001b[39mwith\u001b[39;00m multiprocessing\u001b[39m.\u001b[39mdummy\u001b[39m.\u001b[39mPool(num_workers) \u001b[39mas\u001b[39;00m pool:\n\u001b[0;32m-> 1875\u001b[0m         \u001b[39mfor\u001b[39;00m _ \u001b[39min\u001b[39;00m pool\u001b[39m.\u001b[39mimap_unordered(_do_download, tasks):\n\u001b[1;32m   1876\u001b[0m             pb\u001b[39m.\u001b[39mupdate()\n",
      "File \u001b[0;32m/usr/lib/python3.9/multiprocessing/pool.py:858\u001b[0m, in \u001b[0;36mIMapIterator.next\u001b[0;34m(self, timeout)\u001b[0m\n\u001b[1;32m    856\u001b[0m     \u001b[39mself\u001b[39m\u001b[39m.\u001b[39m_pool \u001b[39m=\u001b[39m \u001b[39mNone\u001b[39;00m\n\u001b[1;32m    857\u001b[0m     \u001b[39mraise\u001b[39;00m \u001b[39mStopIteration\u001b[39;00m \u001b[39mfrom\u001b[39;00m \u001b[39mNone\u001b[39m\n\u001b[0;32m--> 858\u001b[0m \u001b[39mself\u001b[39;49m\u001b[39m.\u001b[39;49m_cond\u001b[39m.\u001b[39;49mwait(timeout)\n\u001b[1;32m    859\u001b[0m \u001b[39mtry\u001b[39;00m:\n\u001b[1;32m    860\u001b[0m     item \u001b[39m=\u001b[39m \u001b[39mself\u001b[39m\u001b[39m.\u001b[39m_items\u001b[39m.\u001b[39mpopleft()\n",
      "File \u001b[0;32m/usr/lib/python3.9/threading.py:312\u001b[0m, in \u001b[0;36mCondition.wait\u001b[0;34m(self, timeout)\u001b[0m\n\u001b[1;32m    310\u001b[0m \u001b[39mtry\u001b[39;00m:    \u001b[39m# restore state no matter what (e.g., KeyboardInterrupt)\u001b[39;00m\n\u001b[1;32m    311\u001b[0m     \u001b[39mif\u001b[39;00m timeout \u001b[39mis\u001b[39;00m \u001b[39mNone\u001b[39;00m:\n\u001b[0;32m--> 312\u001b[0m         waiter\u001b[39m.\u001b[39;49macquire()\n\u001b[1;32m    313\u001b[0m         gotit \u001b[39m=\u001b[39m \u001b[39mTrue\u001b[39;00m\n\u001b[1;32m    314\u001b[0m     \u001b[39melse\u001b[39;00m:\n",
      "\u001b[0;31mKeyboardInterrupt\u001b[0m: "
     ]
    }
   ],
   "source": [
    "data_dir = '/home/mosminin/fiftyone/coco_pc'\n",
    "\n",
    "\n",
    "import fiftyone as fo\n",
    "import fiftyone.zoo as foz\n",
    "\n",
    "dataset = foz.load_zoo_dataset(\n",
    "    \"coco-2017\",\n",
    "    splits=[\"train\", \"validation\"],\n",
    "    # splits=[\"validation\"],\n",
    "    # split='train',\n",
    "    dataset_dir=data_dir,\n",
    "    dataset_name='coco_pc',\n",
    "    classes=class_list,\n",
    "    drop_existing_dataset=True,\n",
    "    only_matching=True,\n",
    "    shuffle=True,\n",
    "    max_samples=1000    \n",
    ")\n",
    "\n",
    "# Visualize the dataset in the FiftyOne App\n",
    "# session = fo.launch_app(dataset)"
   ]
  },
  {
   "cell_type": "code",
   "execution_count": 4,
   "metadata": {},
   "outputs": [],
   "source": [
    "dataset = fo.load_dataset('coco_not_pv')"
   ]
  },
  {
   "cell_type": "code",
   "execution_count": 5,
   "metadata": {},
   "outputs": [
    {
     "data": {
      "text/plain": [
       "Name:        coco_not_pv\n",
       "Media type:  image\n",
       "Num samples: 66808\n",
       "Persistent:  False\n",
       "Tags:        []\n",
       "Sample fields:\n",
       "    id:           fiftyone.core.fields.ObjectIdField\n",
       "    filepath:     fiftyone.core.fields.StringField\n",
       "    tags:         fiftyone.core.fields.ListField(fiftyone.core.fields.StringField)\n",
       "    metadata:     fiftyone.core.fields.EmbeddedDocumentField(fiftyone.core.metadata.ImageMetadata)\n",
       "    ground_truth: fiftyone.core.fields.EmbeddedDocumentField(fiftyone.core.labels.Detections)"
      ]
     },
     "execution_count": 5,
     "metadata": {},
     "output_type": "execute_result"
    }
   ],
   "source": [
    "dataset"
   ]
  },
  {
   "cell_type": "code",
   "execution_count": 6,
   "metadata": {},
   "outputs": [
    {
     "name": "stdout",
     "output_type": "stream",
     "text": [
      "['person']\n",
      " 100% |█████████████| 64115/64115 [55.2s elapsed, 0s remaining, 1.2K samples/s]      \n",
      "Directory '/home/mosminin/fiftyone/coco_person_yolo' already exists; export will be merged with existing files\n",
      " 100% |███████████████| 2693/2693 [2.3s elapsed, 0s remaining, 1.2K samples/s]       \n"
     ]
    }
   ],
   "source": [
    "import fiftyone as fo\n",
    "export_dir = '/home/mosminin/fiftyone/coco_person_yolo'\n",
    "label_field = \"ground_truth\"  # for example\n",
    "# The splits to export\n",
    "splits = ['train', 'validation']\n",
    "# All splits must use the same classes list\n",
    "classes = class_list\n",
    "print(classes)\n",
    "\n",
    "# Export the splits\n",
    "for split in splits:\n",
    "    split_view = dataset.match_tags(split)\n",
    "    split_view.export(\n",
    "        export_dir=export_dir,\n",
    "        dataset_type=fo.types.YOLOv5Dataset,\n",
    "        label_field=label_field,\n",
    "        split=split,\n",
    "        classes=classes,\n",
    "    )"
   ]
  },
  {
   "cell_type": "code",
   "execution_count": 13,
   "metadata": {},
   "outputs": [
    {
     "name": "stdout",
     "output_type": "stream",
     "text": [
      "64115\n",
      "['/home/mosminin/fiftyone/coco_person_yolo/labels/train/000000269997.txt', '/home/mosminin/fiftyone/coco_person_yolo/labels/train/000000500100.txt', '/home/mosminin/fiftyone/coco_person_yolo/labels/train/000000237337.txt']\n"
     ]
    }
   ],
   "source": [
    "labels_path = '/home/mosminin/fiftyone/coco_person_yolo/labels/'\n",
    "images_path = '/home/mosminin/fiftyone/coco_person_yolo/images/'\n",
    "\n",
    "from pathlib import Path\n",
    "data_type = 'train'\n",
    "files = Path(f'{labels_path}/{data_type}/').glob('*.txt')\n",
    "img_path = f'{images_path}/{data_type}'\n",
    "name_list = list(map(str, files))\n",
    "print(len(name_list), name_list[:3], sep='\\n')"
   ]
  },
  {
   "cell_type": "code",
   "execution_count": 14,
   "metadata": {},
   "outputs": [
    {
     "name": "stdout",
     "output_type": "stream",
     "text": [
      "Progress: |██████████████████████████████████████████████████| 100.0% Complete\n"
     ]
    }
   ],
   "source": [
    "# importing pandas\n",
    "import pandas as pd\n",
    "  \n",
    "file_list=name_list\n",
    "l = len(file_list)\n",
    "  \n",
    "main_dataframe = pd.DataFrame(pd.read_table(file_list[0], sep='\\s+', header = None, engine='python'))\n",
    "\n",
    "printProgressBar(0, l, prefix = 'Progress:', suffix = 'Complete', length = 50)\n",
    "  \n",
    "for i in range(1,len(file_list)):\n",
    "    data = pd.read_table(file_list[i], sep='\\s+', header = None, engine='python')\n",
    "    df = pd.DataFrame(data) #, columns= ['cls', 'bbox_x', 'bbox_y', 'bbox_w', 'bbox_h']\n",
    "    main_dataframe = pd.concat([main_dataframe,df],axis=0, ignore_index=True)\n",
    "    printProgressBar(i + 1, l, prefix = 'Progress:', suffix = 'Complete', length = 50)\n",
    "    \n",
    "main_dataframe.columns=['cls', 'x', 'y', 'w', 'h']\n",
    "\n",
    "compression_opts = dict(method='zip',\n",
    "                        archive_name='out.csv')  \n",
    "main_dataframe.to_csv('out.zip', index=False,\n",
    "          compression=compression_opts)  \n"
   ]
  },
  {
   "cell_type": "code",
   "execution_count": 15,
   "metadata": {},
   "outputs": [
    {
     "name": "stdout",
     "output_type": "stream",
     "text": [
      "0    262465\n",
      "Name: cls, dtype: int64\n"
     ]
    },
    {
     "data": {
      "text/plain": [
       "<AxesSubplot: >"
      ]
     },
     "execution_count": 15,
     "metadata": {},
     "output_type": "execute_result"
    },
    {
     "data": {
      "image/png": "[encoded data removed]",
      "text/plain": [
       "<Figure size 640x480 with 1 Axes>"
      ]
     },
     "metadata": {},
     "output_type": "display_data"
    }
   ],
   "source": [
    "print(main_dataframe['cls'].value_counts(sort=True))\n",
    "main_dataframe['cls'].value_counts(sort=True).plot(kind='bar')"
   ]
  },
  {
   "cell_type": "code",
   "execution_count": 12,
   "metadata": {},
   "outputs": [
    {
     "data": {
      "text/plain": [
       "2693"
      ]
     },
     "execution_count": 12,
     "metadata": {},
     "output_type": "execute_result"
    }
   ],
   "source": [
    "len(name_list)"
   ]
  }
 ],
 "metadata": {
  "kernelspec": {
   "display_name": "Python 3 (ipykernel)",
   "language": "python",
   "name": "python3"
  },
  "language_info": {
   "codemirror_mode": {
    "name": "ipython",
    "version": 3
   },
   "file_extension": ".py",
   "mimetype": "text/x-python",
   "name": "python",
   "nbconvert_exporter": "python",
   "pygments_lexer": "ipython3",
   "version": "3.9.2"
  },
  "orig_nbformat": 4,
  "vscode": {
   "interpreter": {
    "hash": "e7370f93d1d0cde622a1f8e1c04877d8463912d04d973331ad4851f04de6915a"
   }
  }
 },
 "nbformat": 4,
 "nbformat_minor": 2
}
