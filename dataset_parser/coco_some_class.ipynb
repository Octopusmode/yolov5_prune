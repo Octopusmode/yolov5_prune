{
 "cells": [
  {
   "cell_type": "markdown",
   "metadata": {},
   "source": [
    "Список нужных классов"
   ]
  },
  {
   "cell_type": "code",
   "execution_count": 8,
   "metadata": {},
   "outputs": [],
   "source": [
    "class_list = ['person', 'car', 'motorcycle', 'bus', 'truck']"
   ]
  },
  {
   "cell_type": "markdown",
   "metadata": {},
   "source": [
    "Список классов датасета"
   ]
  },
  {
   "cell_type": "code",
   "execution_count": 9,
   "metadata": {},
   "outputs": [],
   "source": [
    "coco_classes = ['person', 'bicycle', 'car', 'motorcycle', 'airplane', 'bus', 'train', 'truck', 'boat', 'traffic light',\n",
    "        'fire hydrant', 'stop sign', 'parking meter', 'bench', 'bird', 'cat', 'dog', 'horse', 'sheep', 'cow',\n",
    "        'elephant', 'bear', 'zebra', 'giraffe', 'backpack', 'umbrella', 'handbag', 'tie', 'suitcase', 'frisbee',\n",
    "        'skis', 'snowboard', 'sports ball', 'kite', 'baseball bat', 'baseball glove', 'skateboard', 'surfboard',\n",
    "        'tennis racket', 'bottle', 'wine glass', 'cup', 'fork', 'knife', 'spoon', 'bowl', 'banana', 'apple',\n",
    "        'sandwich', 'orange', 'broccoli', 'carrot', 'hot dog', 'pizza', 'donut', 'cake', 'chair', 'couch',\n",
    "        'potted plant', 'bed', 'dining table', 'toilet', 'tv', 'laptop', 'mouse', 'remote', 'keyboard', 'cell phone',\n",
    "        'microwave', 'oven', 'toaster', 'sink', 'refrigerator', 'book', 'clock', 'vase', 'scissors', 'teddy bear',\n",
    "        'hair drier', 'toothbrush']"
   ]
  },
  {
   "cell_type": "markdown",
   "metadata": {},
   "source": [
    "Список классов не подлежащих обучению"
   ]
  },
  {
   "cell_type": "code",
   "execution_count": 10,
   "metadata": {},
   "outputs": [
    {
     "data": {
      "text/plain": [
       "['bicycle',\n",
       " 'airplane',\n",
       " 'train',\n",
       " 'boat',\n",
       " 'traffic light',\n",
       " 'fire hydrant',\n",
       " 'stop sign',\n",
       " 'parking meter',\n",
       " 'bench',\n",
       " 'bird']"
      ]
     },
     "execution_count": 10,
     "metadata": {},
     "output_type": "execute_result"
    }
   ],
   "source": [
    "def list_exclude(a, b):\n",
    "    return [element for element in a if element not in b]\n",
    "\n",
    "exclude_list = list_exclude(coco_classes, class_list)\n",
    "exclude_list[:10]"
   ]
  },
  {
   "cell_type": "markdown",
   "metadata": {},
   "source": [
    "# Список индексов подлежащих обучению"
   ]
  },
  {
   "cell_type": "code",
   "execution_count": 11,
   "metadata": {},
   "outputs": [
    {
     "name": "stdout",
     "output_type": "stream",
     "text": [
      "person\n",
      "car\n",
      "motorcycle\n",
      "bus\n",
      "truck\n"
     ]
    },
    {
     "data": {
      "text/plain": [
       "['0', '2', '3', '5', '7']"
      ]
     },
     "execution_count": 11,
     "metadata": {},
     "output_type": "execute_result"
    }
   ],
   "source": [
    "def list_index_to_exclude(a, b):\n",
    "    exclude = []\n",
    "    for each in b:\n",
    "        print(each)\n",
    "        for index, element in enumerate(a):\n",
    "            # print(index, element, sep=': ')\n",
    "            if each == element:\n",
    "                exclude.append(str(index))\n",
    "                break\n",
    "    return exclude\n",
    "\n",
    "include_indexes = list_index_to_exclude(coco_classes, class_list)\n",
    "include_indexes"
   ]
  },
  {
   "cell_type": "markdown",
   "metadata": {},
   "source": [
    "Скачивание датасета"
   ]
  },
  {
   "cell_type": "code",
   "execution_count": 12,
   "metadata": {},
   "outputs": [
    {
     "name": "stdout",
     "output_type": "stream",
     "text": [
      "Downloading split 'train' to '/home/mosminin/fiftyone/coco-2017/train' if necessary\n",
      "Found annotations at '/home/mosminin/fiftyone/coco-2017/raw/instances_train2017.json'\n",
      "Sufficient images already downloaded\n",
      "Existing download of split 'train' is sufficient\n",
      "Downloading split 'validation' to '/home/mosminin/fiftyone/coco-2017/validation' if necessary\n",
      "Found annotations at '/home/mosminin/fiftyone/coco-2017/raw/instances_val2017.json'\n",
      "Sufficient images already downloaded\n",
      "Existing download of split 'validation' is sufficient\n",
      "Downloading split 'test' to '/home/mosminin/fiftyone/coco-2017/test' if necessary\n",
      "Test split is unlabeled; ignoring classes requirement\n",
      "Found test info at '/home/mosminin/fiftyone/coco-2017/raw/image_info_test2017.json'\n",
      "Images already downloaded\n",
      "Existing download of split 'test' is sufficient\n",
      "Ignoring unsupported parameter 'include_licence' for importer type <class 'fiftyone.utils.coco.COCODetectionDatasetImporter'>\n",
      "Ignoring unsupported parameter 'persistent' for importer type <class 'fiftyone.utils.coco.COCODetectionDatasetImporter'>\n",
      "Loading existing dataset 'coco-2017'. To reload from disk, either delete the existing dataset or provide a custom `dataset_name` to use\n"
     ]
    }
   ],
   "source": [
    "import fiftyone as fo\n",
    "import fiftyone.zoo as foz\n",
    "\n",
    "dataset = foz.load_zoo_dataset(\n",
    "    \"coco-2017\",\n",
    "    # splits=[\"test\", \"validation\", \"train\"],\n",
    "    # splits=[\"validation\"],\n",
    "    classes=class_list,\n",
    "    include_licence=False,\n",
    "    only_matching=True,\n",
    "    persistent=True,\n",
    ")\n",
    "\n",
    "# Visualize the dataset in the FiftyOne App\n",
    "# session = fo.launch_app(dataset)"
   ]
  },
  {
   "cell_type": "markdown",
   "metadata": {},
   "source": [
    "Проверка имспользуемых классов"
   ]
  },
  {
   "cell_type": "code",
   "execution_count": 13,
   "metadata": {},
   "outputs": [
    {
     "name": "stdout",
     "output_type": "stream",
     "text": [
      "['0', 'person', 'bicycle', 'car', 'motorcycle', 'airplane', 'bus', 'train', 'truck', 'boat', 'traffic light', 'fire hydrant', '12', 'stop sign', 'parking meter', 'bench', 'bird', 'cat', 'dog', 'horse', 'sheep', 'cow', 'elephant', 'bear', 'zebra', 'giraffe', '26', 'backpack', 'umbrella', '29', '30', 'handbag', 'tie', 'suitcase', 'frisbee', 'skis', 'snowboard', 'sports ball', 'kite', 'baseball bat', 'baseball glove', 'skateboard', 'surfboard', 'tennis racket', 'bottle', '45', 'wine glass', 'cup', 'fork', 'knife', 'spoon', 'bowl', 'banana', 'apple', 'sandwich', 'orange', 'broccoli', 'carrot', 'hot dog', 'pizza', 'donut', 'cake', 'chair', 'couch', 'potted plant', 'bed', '66', 'dining table', '68', '69', 'toilet', '71', 'tv', 'laptop', 'mouse', 'remote', 'keyboard', 'cell phone', 'microwave', 'oven', 'toaster', 'sink', 'refrigerator', '83', 'book', 'clock', 'vase', 'scissors', 'teddy bear', 'hair drier', 'toothbrush']\n"
     ]
    }
   ],
   "source": [
    "print(dataset.default_classes)"
   ]
  },
  {
   "cell_type": "markdown",
   "metadata": {},
   "source": [
    "Экспорт датасета в формат Yolo"
   ]
  },
  {
   "cell_type": "code",
   "execution_count": 15,
   "metadata": {},
   "outputs": [
    {
     "name": "stdout",
     "output_type": "stream",
     "text": [
      "Directory '/home/mosminin/fiftyone/coco-2017/' already exists; export will be merged with existing files\n",
      " 100% |█████████████| 69682/69682 [1.4m elapsed, 0s remaining, 774.5 samples/s]      \n",
      "Directory '/home/mosminin/fiftyone/coco-2017/' already exists; export will be merged with existing files\n",
      " 100% |███████████████| 2951/2951 [5.1s elapsed, 0s remaining, 671.9 samples/s]       \n",
      "Directory '/home/mosminin/fiftyone/coco-2017/' already exists; export will be merged with existing files\n",
      " 100% |█████████████| 40670/40670 [59.4s elapsed, 0s remaining, 1.2K samples/s]       \n"
     ]
    }
   ],
   "source": [
    "import fiftyone as fo\n",
    "\n",
    "export_dir = \"/home/mosminin/fiftyone/coco-2017/\"\n",
    "label_field = \"ground_truth\"  # for example\n",
    "\n",
    "# The splits to export\n",
    "splits = [\"train\", \"validation\", \"test\"]\n",
    "\n",
    "# All splits must use the same classes list\n",
    "classes = class_list\n",
    "\n",
    "# Export the splits\n",
    "for split in splits:\n",
    "    split_view = dataset.match_tags(split)\n",
    "    split_view.export(\n",
    "        export_dir=export_dir,\n",
    "        dataset_type=fo.types.YOLOv5Dataset,\n",
    "        label_field=label_field,\n",
    "        split=split,\n",
    "        classes=classes,\n",
    "    )"
   ]
  },
  {
   "cell_type": "markdown",
   "metadata": {},
   "source": [
    "## Добавление изображений без классов для снижения ложного распознования"
   ]
  },
  {
   "cell_type": "markdown",
   "metadata": {},
   "source": [
    "# Читаем список файлов для обработки"
   ]
  },
  {
   "cell_type": "code",
   "execution_count": 16,
   "metadata": {},
   "outputs": [
    {
     "name": "stdout",
     "output_type": "stream",
     "text": [
      "69682\n",
      "['/home/mosminin/fiftyone/coco-2017/labels/train/000000421218.txt', '/home/mosminin/fiftyone/coco-2017/labels/train/000000343542.txt', '/home/mosminin/fiftyone/coco-2017/labels/train/000000384015.txt']\n"
     ]
    }
   ],
   "source": [
    "from pathlib import Path\n",
    "data_type = 'train'\n",
    "files = Path(f'/home/mosminin/fiftyone/coco-2017/labels/{data_type}/').glob('*.txt')\n",
    "img_path = f'/home/mosminin/fiftyone/coco-2017/images/{data_type}'\n",
    "name_list = list(map(str, files))\n",
    "print(len(name_list), name_list[:3], sep='\\n')"
   ]
  },
  {
   "cell_type": "markdown",
   "metadata": {},
   "source": [
    "## Обработчик"
   ]
  },
  {
   "cell_type": "markdown",
   "metadata": {},
   "source": [
    "# Ищем аннотации с неиспользуемыми классами и переименовываем .txt и соответствующий .jpg"
   ]
  },
  {
   "cell_type": "code",
   "execution_count": 17,
   "metadata": {},
   "outputs": [],
   "source": [
    "import multiprocessing, os\n",
    "from multiprocessing import Value\n",
    "from time import time, sleep\n",
    "\n",
    "files = name_list\n",
    "\n",
    "p_count = multiprocessing.Value('i', 0)\n",
    "t_count = multiprocessing.Value('f', time())\n",
    "\n",
    "done_list = []\n",
    "\n",
    "def process_file(file_name):\n",
    "    ###\n",
    "    # t_count.value = time() - t_count.value\n",
    "    # p_count.value += 1\n",
    "    # print(str(p_count.value)+'\\n')\n",
    "    ###\n",
    "    file = open(file_name, 'r')\n",
    "    lines = file.readlines()\n",
    "    rename = True\n",
    "    data = []\n",
    "    for each in lines:\n",
    "        data.append(int(each.split()[0]))\n",
    "        # if each.split()[0] in [exclude_list]:\n",
    "        if sum(data) > 0:\n",
    "            rename = False\n",
    "    if rename:        \n",
    "        name = Path(file_name)\n",
    "        # print(f\"{name.stem}{name.suffix}_\")\n",
    "        name.rename(Path(name.parent, f\"{name.stem}{name.suffix}_\"))\n",
    "        \n",
    "        txt_name = Path(file_name)\n",
    "        rname = Path(img_path, f'{txt_name.stem}.jpg')\n",
    "        try:\n",
    "            to_rename = Path(rname.parent, f\"{txt_name.stem}{rname.suffix}_\")\n",
    "            os.rename(rname, to_rename)\n",
    "        except FileNotFoundError:\n",
    "            print(f'{to_rename} not found\\n')\n",
    "            pass\n",
    "    file.close()"
   ]
  },
  {
   "cell_type": "code",
   "execution_count": 25,
   "metadata": {},
   "outputs": [],
   "source": [
    "def process_indexes(name_list=name_list):\n",
    "    ###\n",
    "    # t_count.value = time() - t_count.value\n",
    "    # p_count.value += 1\n",
    "    # print(str(p_count.value)+'\\n')\n",
    "    ###\n",
    "    for file_name in name_list:\n",
    "        file = open(file_name, 'r')\n",
    "        lines = file.readlines()\n",
    "        data = []\n",
    "        for each in lines:\n",
    "            if each.split()[0] not in data:\n",
    "                print(each.split()[0]+'\\r'+' '*10)\n",
    "                data.append(each.split()[0])\n",
    "        file.close()\n",
    "    return data"
   ]
  },
  {
   "cell_type": "code",
   "execution_count": null,
   "metadata": {},
   "outputs": [],
   "source": [
    "indexes = process_indexes()"
   ]
  },
  {
   "cell_type": "code",
   "execution_count": 27,
   "metadata": {},
   "outputs": [
    {
     "data": {
      "text/plain": [
       "['4', '1']"
      ]
     },
     "execution_count": 27,
     "metadata": {},
     "output_type": "execute_result"
    }
   ],
   "source": [
    "indexes"
   ]
  },
  {
   "cell_type": "code",
   "execution_count": null,
   "metadata": {},
   "outputs": [],
   "source": [
    "# with multiprocessing.Pool(4) as pool:\n",
    "#     pool.map(process_file, files, 1);"
   ]
  }
 ],
 "metadata": {
  "kernelspec": {
   "display_name": "Python 3.8.10 ('env_2080': venv)",
   "language": "python",
   "name": "python3"
  },
  "language_info": {
   "codemirror_mode": {
    "name": "ipython",
    "version": 3
   },
   "file_extension": ".py",
   "mimetype": "text/x-python",
   "name": "python",
   "nbconvert_exporter": "python",
   "pygments_lexer": "ipython3",
   "version": "3.8.10"
  },
  "orig_nbformat": 4,
  "vscode": {
   "interpreter": {
    "hash": "a905abe9e70db9de3eb02a24535f949144df167f843a9aeb57b50bdeb1189a46"
   }
  }
 },
 "nbformat": 4,
 "nbformat_minor": 2
}
