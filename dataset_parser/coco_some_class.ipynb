{
 "cells": [
  {
   "cell_type": "markdown",
   "metadata": {},
   "source": [
    "Список нужных классов"
   ]
  },
  {
   "cell_type": "code",
   "execution_count": 1,
   "metadata": {},
   "outputs": [],
   "source": [
    "class_list = ['person', 'car', 'motorcycle', 'bus', 'truck']"
   ]
  },
  {
   "cell_type": "markdown",
   "metadata": {},
   "source": [
    "Список классов датасета"
   ]
  },
  {
   "cell_type": "code",
   "execution_count": 2,
   "metadata": {},
   "outputs": [],
   "source": [
    "coco_classes = ['person', 'bicycle', 'car', 'motorcycle', 'airplane', 'bus', 'train', 'truck', 'boat', 'traffic light',\n",
    "        'fire hydrant', 'stop sign', 'parking meter', 'bench', 'bird', 'cat', 'dog', 'horse', 'sheep', 'cow',\n",
    "        'elephant', 'bear', 'zebra', 'giraffe', 'backpack', 'umbrella', 'handbag', 'tie', 'suitcase', 'frisbee',\n",
    "        'skis', 'snowboard', 'sports ball', 'kite', 'baseball bat', 'baseball glove', 'skateboard', 'surfboard',\n",
    "        'tennis racket', 'bottle', 'wine glass', 'cup', 'fork', 'knife', 'spoon', 'bowl', 'banana', 'apple',\n",
    "        'sandwich', 'orange', 'broccoli', 'carrot', 'hot dog', 'pizza', 'donut', 'cake', 'chair', 'couch',\n",
    "        'potted plant', 'bed', 'dining table', 'toilet', 'tv', 'laptop', 'mouse', 'remote', 'keyboard', 'cell phone',\n",
    "        'microwave', 'oven', 'toaster', 'sink', 'refrigerator', 'book', 'clock', 'vase', 'scissors', 'teddy bear',\n",
    "        'hair drier', 'toothbrush']"
   ]
  },
  {
   "cell_type": "markdown",
   "metadata": {},
   "source": [
    "Список классов не подлежащих обучению"
   ]
  },
  {
   "cell_type": "code",
   "execution_count": 3,
   "metadata": {},
   "outputs": [
    {
     "data": {
      "text/plain": [
       "['bicycle',\n",
       " 'airplane',\n",
       " 'train',\n",
       " 'boat',\n",
       " 'traffic light',\n",
       " 'fire hydrant',\n",
       " 'stop sign',\n",
       " 'parking meter',\n",
       " 'bench',\n",
       " 'bird']"
      ]
     },
     "execution_count": 3,
     "metadata": {},
     "output_type": "execute_result"
    }
   ],
   "source": [
    "def list_exclude(a, b):\n",
    "    return [element for element in a if element not in b]\n",
    "\n",
    "exclude_list = list_exclude(coco_classes, class_list)\n",
    "exclude_list[:10]"
   ]
  },
  {
   "cell_type": "markdown",
   "metadata": {},
   "source": [
    "# Список индексов подлежащих обучению"
   ]
  },
  {
   "cell_type": "code",
   "execution_count": 4,
   "metadata": {},
   "outputs": [
    {
     "name": "stdout",
     "output_type": "stream",
     "text": [
      "person\n",
      "car\n",
      "motorcycle\n",
      "bus\n",
      "truck\n"
     ]
    },
    {
     "data": {
      "text/plain": [
       "['0', '2', '3', '5', '7']"
      ]
     },
     "execution_count": 4,
     "metadata": {},
     "output_type": "execute_result"
    }
   ],
   "source": [
    "def list_index_to_exclude(a, b):\n",
    "    exclude = []\n",
    "    for each in b:\n",
    "        print(each)\n",
    "        for index, element in enumerate(a):\n",
    "            # print(index, element, sep=': ')\n",
    "            if each == element:\n",
    "                exclude.append(str(index))\n",
    "                break\n",
    "    return exclude\n",
    "\n",
    "include_indexes = list_index_to_exclude(coco_classes, class_list)\n",
    "include_indexes"
   ]
  },
  {
   "cell_type": "markdown",
   "metadata": {},
   "source": [
    "Проверка имспользуемых классов"
   ]
  },
  {
   "cell_type": "code",
   "execution_count": null,
   "metadata": {},
   "outputs": [],
   "source": [
    "print(dataset.default_classes)"
   ]
  },
  {
   "cell_type": "markdown",
   "metadata": {},
   "source": [
    "Экспорт датасета в формат Yolo"
   ]
  },
  {
   "cell_type": "code",
   "execution_count": null,
   "metadata": {},
   "outputs": [],
   "source": [
    "import fiftyone as fo\n",
    "\n",
    "export_dir = \"/home/mosminin/fiftyone/coco-2017/\"\n",
    "label_field = \"ground_truth\"  # for example\n",
    "\n",
    "# The splits to export\n",
    "splits = [\"train\", \"validation\", \"test\"]\n",
    "\n",
    "# All splits must use the same classes list\n",
    "classes = class_list\n",
    "\n",
    "# Export the splits\n",
    "for split in splits:\n",
    "    split_view = dataset.match_tags(split)\n",
    "    split_view.export(\n",
    "        export_dir=export_dir,\n",
    "        dataset_type=fo.types.YOLOv5Dataset,\n",
    "        label_field=label_field,\n",
    "        split=split,\n",
    "        classes=classes,\n",
    "    )"
   ]
  },
  {
   "cell_type": "markdown",
   "metadata": {},
   "source": [
    "## Добавление изображений без классов для снижения ложного распознования"
   ]
  },
  {
   "cell_type": "markdown",
   "metadata": {},
   "source": [
    "# Читаем список файлов для обработки"
   ]
  },
  {
   "cell_type": "code",
   "execution_count": null,
   "metadata": {},
   "outputs": [],
   "source": [
    "from pathlib import Path\n",
    "data_type = 'train'\n",
    "files = Path(f'/home/mosminin/fiftyone/coco-2017/labels/{data_type}/').glob('*.txt')\n",
    "img_path = f'/home/mosminin/fiftyone/coco-2017/images/{data_type}'\n",
    "name_list = list(map(str, files))\n",
    "print(len(name_list), name_list[:3], sep='\\n')"
   ]
  },
  {
   "cell_type": "markdown",
   "metadata": {},
   "source": [
    "## Обработчик"
   ]
  },
  {
   "cell_type": "markdown",
   "metadata": {},
   "source": [
    "# Ищем аннотации с неиспользуемыми классами и переименовываем .txt и соответствующий .jpg"
   ]
  },
  {
   "cell_type": "code",
   "execution_count": null,
   "metadata": {},
   "outputs": [],
   "source": [
    "import multiprocessing, os\n",
    "from multiprocessing import Value\n",
    "from time import time, sleep\n",
    "\n",
    "files = name_list\n",
    "\n",
    "p_count = multiprocessing.Value('i', 0)\n",
    "t_count = multiprocessing.Value('f', time())\n",
    "\n",
    "done_list = []\n",
    "\n",
    "def process_file(file_name):\n",
    "    ###\n",
    "    # t_count.value = time() - t_count.value\n",
    "    # p_count.value += 1\n",
    "    # print(str(p_count.value)+'\\n')\n",
    "    ###\n",
    "    file = open(file_name, 'r')\n",
    "    lines = file.readlines()\n",
    "    rename = True\n",
    "    data = []\n",
    "    for each in lines:\n",
    "        # data.append(int(each.split()[0]))\n",
    "        if each.split()[0] in [exclude_list]:\n",
    "        # if sum(data) > 0:\n",
    "            rename = False\n",
    "    # if rename:        \n",
    "    #     name = Path(file_name)\n",
    "    #     # print(f\"{name.stem}{name.suffix}_\")\n",
    "    #     name.rename(Path(name.parent, f\"{name.stem}{name.suffix}_\"))\n",
    "        \n",
    "    #     txt_name = Path(file_name)\n",
    "    #     rname = Path(img_path, f'{txt_name.stem}.jpg')\n",
    "    #     try:\n",
    "    #         to_rename = Path(rname.parent, f\"{txt_name.stem}{rname.suffix}_\")\n",
    "    #         print(f'name={rname}, txt_name={txt_name.stem}, name_parent={rname.parent} -> {to_rename}\\n')\n",
    "    #         os.rename(rname, to_rename)\n",
    "    #     except FileNotFoundError:\n",
    "    #         print(f'{to_rename} not found\\n')\n",
    "    #         pass\n",
    "    file.close()\n",
    "\n",
    "with multiprocessing.Pool(4) as pool:\n",
    "    pool.map(process_file, files, 1);"
   ]
  }
 ],
 "metadata": {
  "kernelspec": {
   "display_name": "Python 3.8.10 ('env_2080': venv)",
   "language": "python",
   "name": "python3"
  },
  "language_info": {
   "codemirror_mode": {
    "name": "ipython",
    "version": 3
   },
   "file_extension": ".py",
   "mimetype": "text/x-python",
   "name": "python",
   "nbconvert_exporter": "python",
   "pygments_lexer": "ipython3",
   "version": "3.8.10"
  },
  "orig_nbformat": 4,
  "vscode": {
   "interpreter": {
    "hash": "a905abe9e70db9de3eb02a24535f949144df167f843a9aeb57b50bdeb1189a46"
   }
  }
 },
 "nbformat": 4,
 "nbformat_minor": 2
}
